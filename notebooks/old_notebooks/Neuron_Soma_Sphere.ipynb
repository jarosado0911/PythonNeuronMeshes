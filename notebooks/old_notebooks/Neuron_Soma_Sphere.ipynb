{
 "cells": [
  {
   "cell_type": "code",
   "execution_count": 1,
   "metadata": {},
   "outputs": [
    {
     "name": "stdout",
     "output_type": "stream",
     "text": [
      "Python version:  3.8.10 (default, Mar 13 2023, 10:26:41) \n",
      "[GCC 9.4.0]\n",
      "Version info:    sys.version_info(major=3, minor=8, micro=10, releaselevel='final', serial=0)\n",
      "JSON:            2.0.9 \n",
      "\n",
      "networkx:   3.1\n",
      "scipy:      1.10.1\n",
      "numpy:      1.24.3\n",
      "maplotlib:  3.7.1\n"
     ]
    }
   ],
   "source": [
    "import os\n",
    "import sys\n",
    "print(\"Python version: \",sys.version)\n",
    "print(\"Version info:   \",sys.version_info)\n",
    "\n",
    "# add path to get to the modules renderneuron and parallelframe\n",
    "sys.path.insert(0,'../../src/old/')\n",
    "\n",
    "# these are the modules I made\n",
    "import renderneuron as rn\n",
    "import parallelframe as pf"
   ]
  },
  {
   "cell_type": "code",
   "execution_count": 2,
   "metadata": {},
   "outputs": [
    {
     "name": "stdout",
     "output_type": "stream",
     "text": [
      "Filename:  ../cells/241-3-56-AW.CNG.swc\n",
      "Node info:  1  :  {'t': 1, 'pos': (0.0, 0.0, 0.0), 'r': 12.4905}\n",
      "Node succ []\n",
      "Node info:  2  :  {'t': 1, 'pos': (12.46, -0.27, 0.0), 'r': 12.4905}\n",
      "Node succ [1]\n",
      "Node info:  3  :  {'t': 1, 'pos': (-12.47, 0.27, 0.0), 'r': 12.4905}\n",
      "Node succ [1]\n"
     ]
    }
   ],
   "source": [
    "CELL='../../cells/241-3-56-AW.CNG.swc'\n",
    "print('Filename: ',CELL)\n",
    "\n",
    "# read the lines from the .swc file\n",
    "lines=rn.read_swc(CELL)\n",
    "\n",
    "#Now let us add nodes with the x,y,z and r attributes  \n",
    "G=rn.get_graph(lines)\n",
    "G2=rn.remove_soma_line(G)\n",
    "rn.save_to_swc(G2,'test_cell.swc')"
   ]
  },
  {
   "cell_type": "code",
   "execution_count": 3,
   "metadata": {},
   "outputs": [],
   "source": [
    "dx=0.5\n",
    "GS=rn.spline_neuron(G2,dx)\n",
    "rn.save_to_swc(GS,'test_cell_spline.swc')\n",
    "pf.write_1d_ugx(GS,'test_cell_1d.ugx')"
   ]
  },
  {
   "cell_type": "code",
   "execution_count": 4,
   "metadata": {},
   "outputs": [],
   "source": [
    "# read the lines in the .swc file\n",
    "lines=rn.read_swc('test_cell_spline.swc')\n",
    "# get a graph based on the lines from the .swc file\n",
    "X=rn.get_graph(lines)\n",
    "# get the contours\n",
    "npts=12\n",
    "cont=pf.get_pft_frames(X,npts)\n",
    "\n",
    "pf.write_ugx(cont,X,npts,'test_cell_tris.ugx')"
   ]
  },
  {
   "cell_type": "code",
   "execution_count": 5,
   "metadata": {},
   "outputs": [],
   "source": [
    "import somasphere as sph"
   ]
  },
  {
   "cell_type": "code",
   "execution_count": 6,
   "metadata": {},
   "outputs": [
    {
     "name": "stdout",
     "output_type": "stream",
     "text": [
      "113760\n"
     ]
    }
   ],
   "source": [
    "scale_soma=1.10;\n",
    "sph.write_ugx(cont,X,npts,'test_cell_tris_somaball_120percent.ugx',scale_soma)"
   ]
  },
  {
   "cell_type": "code",
   "execution_count": null,
   "metadata": {},
   "outputs": [],
   "source": []
  }
 ],
 "metadata": {
  "kernelspec": {
   "display_name": "Python 3 (ipykernel)",
   "language": "python",
   "name": "python3"
  },
  "language_info": {
   "codemirror_mode": {
    "name": "ipython",
    "version": 3
   },
   "file_extension": ".py",
   "mimetype": "text/x-python",
   "name": "python",
   "nbconvert_exporter": "python",
   "pygments_lexer": "ipython3",
   "version": "3.8.10"
  }
 },
 "nbformat": 4,
 "nbformat_minor": 4
}
