{
 "cells": [
  {
   "cell_type": "markdown",
   "metadata": {},
   "source": [
    "# Exploring Meshing Functions\n",
    "In this notebook I go over the basic functionality of the functions inside renderneuron.py and parallelframe.py.\n",
    "- First, I print the versions used in this project and then I load the two modules that I created\n",
    "- Second, I load a .swc from the cells folder\n",
    "- Then, I save refine geometries (without splines)\n",
    "- I show an example using spline refinement"
   ]
  },
  {
   "cell_type": "code",
   "execution_count": 2,
   "metadata": {},
   "outputs": [
    {
     "name": "stdout",
     "output_type": "stream",
     "text": [
      "Python version:  3.8.10 (default, Mar 13 2023, 10:26:41) \n",
      "[GCC 9.4.0]\n",
      "Version info:    sys.version_info(major=3, minor=8, micro=10, releaselevel='final', serial=0)\n"
     ]
    }
   ],
   "source": [
    "import os\n",
    "import sys\n",
    "print(\"Python version: \",sys.version)\n",
    "print(\"Version info:   \",sys.version_info)\n",
    "\n",
    "# add path to get to the modules renderneuron and parallelframe\n",
    "sys.path.insert(0,'../../src/old/')\n",
    "\n",
    "# these are the modules I made\n",
    "import renderneuron as rn\n",
    "import parallelframe as pf\n",
    "import somasphere as sph"
   ]
  },
  {
   "cell_type": "markdown",
   "metadata": {},
   "source": [
    "# Get list of .swc files\n",
    "Next I make a list of file names, these file names are the names of the .swc files located in the cell folder which contains the sample 1D geometry found in NeuroMorpho.org: [NeuroMorpho.org](https://neuromorpho.org/)"
   ]
  },
  {
   "cell_type": "code",
   "execution_count": null,
   "metadata": {},
   "outputs": [],
   "source": [
    "CELL_DIR='../../cells/'\n",
    "OUTPUT_DIR='output/'\n",
    "if not os.path.exists(OUTPUT_DIR):\n",
    "        os.mkdir(OUTPUT_DIR)\n",
    "# list to store files\n",
    "res = []\n",
    "# Iterate directory\n",
    "for file in os.listdir(CELL_DIR):\n",
    "    # check only text files\n",
    "    if file.endswith('.swc'):\n",
    "        res.append(file)\n",
    "        print(\"Cell Name: \",file.replace('.swc',''))"
   ]
  },
  {
   "cell_type": "markdown",
   "metadata": {},
   "source": [
    "# Getting the Neuron graph and REFINING\n",
    "+ In this part we will read a .swc file and turn it into a neuron graph. \n",
    "+ The neuron graph is storted as Digraph through the networkx module in python. \n",
    "+ Each node contains the id, pid (parent id), coordinates (pos), radius (r), and type (t).\n",
    "+ I use a function called refine_and_save which will save each .swc file"
   ]
  },
  {
   "cell_type": "code",
   "execution_count": null,
   "metadata": {},
   "outputs": [],
   "source": [
    "c=res[6]  # I chose index 0 corresponding to the first file in cells\n",
    "print('Filename: ',c)\n",
    "\n",
    "# read the lines from the .swc file\n",
    "lines=rn.read_swc(CELL_DIR+c)\n",
    "\n",
    "#Now let us add nodes with the x,y,z and r attributes  \n",
    "G=rn.get_graph(lines)\n",
    "\n",
    "# name the output\n",
    "FOLDER=OUTPUT_DIR+c.replace('.swc','')+'_output'\n",
    "\n",
    "# generate and save the refinements, in this example we will make 5 refinements.\n",
    "nrefine=5\n",
    "GG=rn.refine_and_save(G,FOLDER,nrefine)\n",
    "print('There were ',len(GG), ' refinements made and saved.')\n",
    "\n",
    "# here I use a function which will return the geometry with the trunks separated\n",
    "trunks,T=rn.get_trunks(G)\n",
    "# save the trunks to output\n",
    "rn.save_to_swc(T,FOLDER+'/trunks.swc')"
   ]
  },
  {
   "cell_type": "markdown",
   "metadata": {},
   "source": [
    "Let us look at the Hines sparsity matrix"
   ]
  },
  {
   "cell_type": "code",
   "execution_count": null,
   "metadata": {},
   "outputs": [],
   "source": [
    "rn.plot_hines_sparsity(G)"
   ]
  },
  {
   "cell_type": "markdown",
   "metadata": {},
   "source": [
    "Let us look at a rendering of the neuron, I show two plotting functions I made"
   ]
  },
  {
   "cell_type": "code",
   "execution_count": null,
   "metadata": {},
   "outputs": [],
   "source": [
    "# The first plot is a point plot\n",
    "rn.plot_neuron(G)\n",
    "\n",
    "# The second plot is a line plot with edge width corresponding to radius\n",
    "rn.plot_neuron_r(G)"
   ]
  },
  {
   "cell_type": "markdown",
   "metadata": {},
   "source": [
    "# Let us make spline refinements now\n",
    "- In this example I use the same geometry used above except I use splines to regularize the points on the trunks\n",
    "- I make use of lists for the power (pw), and delta x (dx) is (2^7, 2^6,...,2^-7) this can be modified\n",
    "- Then I make an output folder\n",
    "- Then I read in the original .swc cell I want to use\n",
    "- Then I use a loop to generate the refined spline geometries which are saved to .swc"
   ]
  },
  {
   "cell_type": "code",
   "execution_count": null,
   "metadata": {},
   "outputs": [],
   "source": [
    "# make the delta x using powers of 2\n",
    "pw=list(range(4,-2,-1))\n",
    "dx=[pow(2,p) for p in pw]\n",
    "\n",
    "# make output directory\n",
    "OUTPUT_DIR=c.replace('.swc','')+'_outputSPLINES/'\n",
    "if not os.path.exists(OUTPUT_DIR):\n",
    "        os.mkdir(OUTPUT_DIR)\n",
    "\n",
    "# read in original .swc cell geometry, I am using c from the previous example\n",
    "lines=rn.read_swc(CELL_DIR+c)\n",
    "\n",
    "# get the graph\n",
    "G=rn.get_graph(lines)\n",
    "\n",
    "# make another subfolder for all refinements\n",
    "FOLDER=OUTPUT_DIR+c.replace('.swc','')+'_output'\n",
    "if not os.path.exists(FOLDER):\n",
    "    os.mkdir(FOLDER)\n",
    "    \n",
    "# make the refinements\n",
    "print('refining round...',end=' ')\n",
    "for i in range(len(dx)):\n",
    "    GS=rn.spline_neuron(G,dx[i])\n",
    "    print(str(dx[i]),' ',end='')\n",
    "    rn.save_to_swc(GS,FOLDER+'/refinement'+str(i)+'.swc')\n",
    "    pf.write_1d_ugx(GS,FOLDER+'/'+c.replace('.swc','')+'_segLength=8_1d_ref_'+str(i)+'.ugx')\n",
    "print(' Done!')"
   ]
  },
  {
   "cell_type": "markdown",
   "metadata": {},
   "source": [
    "# Make Surface meshes\n",
    "In this example we will use our spline geometries to make surface meshes\n",
    "\n",
    "- You need to specify npts because this is the number of points on the each circular contour we are making\n"
   ]
  },
  {
   "cell_type": "code",
   "execution_count": null,
   "metadata": {
    "scrolled": false
   },
   "outputs": [],
   "source": [
    "# get a list of .swc files from the folder defined in the previous example\n",
    "allfiles=os.listdir(FOLDER)\n",
    "files=[]\n",
    "for f in allfiles:\n",
    "    if f.endswith('.swc'):\n",
    "        files.append(f)\n",
    "print('SWC files that were generated: \\n',files)\n",
    "\n",
    "# set the number of contour points\n",
    "npts=12\n",
    "\n",
    "# iterate through the files\n",
    "print('\\nwriting ugx...',end=' ')\n",
    "for i in range(len(files)):\n",
    "    # read the lines in the .swc file\n",
    "    lines=rn.read_swc(FOLDER+'/'+files[i])\n",
    "    \n",
    "    # get a graph based on the lines from the .swc file\n",
    "    X=rn.get_graph(lines)\n",
    "    \n",
    "    # get the contours\n",
    "    cont=pf.get_pft_frames(X,npts)\n",
    "    \n",
    "    # set an output file name\n",
    "    outfilename=FOLDER+'/'+c.replace('.swc','')+'_segLength=8_3d_tris_x1_ref_'+str(i)+'.ugx'\n",
    "    print(i,' ',end='')\n",
    "    \n",
    "    # write the .ugx to file\n",
    "    pf.write_ugx(cont,X,npts,outfilename)\n",
    "    outfilename=FOLDER+'/mesh_subsets'+str(i)+'.ugx'\n",
    "    pf.write_ugx_subsets(cont,X,npts,outfilename)\n",
    "print('Done!')"
   ]
  },
  {
   "cell_type": "code",
   "execution_count": null,
   "metadata": {},
   "outputs": [],
   "source": [
    "# This will generate a plot of the transported curves which frame the curve\n",
    "cnt=pf.plot_pft_frames(G)"
   ]
  },
  {
   "cell_type": "code",
   "execution_count": null,
   "metadata": {},
   "outputs": [],
   "source": [
    "# Let us look at the parallel frame vector\n",
    "pf.plot_pft_vectors(G)"
   ]
  },
  {
   "cell_type": "markdown",
   "metadata": {},
   "source": [
    "# Replace Soma with Soma Sphere\n",
    "In this section we remove the soma segment, and then place a soma sphere"
   ]
  },
  {
   "cell_type": "code",
   "execution_count": null,
   "metadata": {},
   "outputs": [],
   "source": [
    "# get a list of .swc files from the folder defined in the previous example\n",
    "allfiles=os.listdir(FOLDER)\n",
    "files=[]\n",
    "for f in allfiles:\n",
    "    if f.endswith('.swc'):\n",
    "        files.append(f)\n",
    "print('SWC files that were generated: \\n',files)\n",
    "\n",
    "# make another subfolder for all refinements\n",
    "NEW_FOLDER='soma_sphere_'+c.replace('.swc','')+'_output'\n",
    "if not os.path.exists(NEW_FOLDER):\n",
    "    os.mkdir(NEW_FOLDER)\n",
    "\n",
    "# set the number of contour points\n",
    "npts=12\n",
    "\n",
    "# iterate through the files\n",
    "print('\\nwriting ugx...\\n',end=' ')\n",
    "for i in range(len(files)):\n",
    "    # read the lines in the .swc file\n",
    "    lines=rn.read_swc(FOLDER+'/'+files[i])\n",
    "    \n",
    "    # get a graph based on the lines from the .swc file\n",
    "    X=rn.get_graph(lines)\n",
    "    G2=rn.remove_soma_line(X)\n",
    "    # get the contours\n",
    "    pf.write_1d_ugx(G2,NEW_FOLDER+'/'+c.replace('.swc','')+'_soma_line_1d_ref_'+str(i)+'.ugx')\n",
    "    cont=pf.get_pft_frames(G2,npts)\n",
    "    \n",
    "    # set an output file name\n",
    "    outfilename=NEW_FOLDER+'/'+c.replace('.swc','')+'_soma_sphere_3d_tris_x1_ref_'+str(i)+'.ugx'\n",
    "    print(i,' ',end='')\n",
    "    \n",
    "    # write the .ugx to file\n",
    "    scale_soma=1.10;\n",
    "    nsphere_contours=10;\n",
    "    nsphere_contour_pts=16;\n",
    "    sph.write_ugx(cont,G2,npts,outfilename,scale_soma,nsphere_contours,nsphere_contour_pts)\n",
    "    \n",
    "print('Done!')"
   ]
  },
  {
   "cell_type": "code",
   "execution_count": null,
   "metadata": {},
   "outputs": [],
   "source": [
    "rn.write_vrn(NEW_FOLDER)"
   ]
  },
  {
   "cell_type": "code",
   "execution_count": null,
   "metadata": {},
   "outputs": [],
   "source": []
  }
 ],
 "metadata": {
  "kernelspec": {
   "display_name": "Python 3 (ipykernel)",
   "language": "python",
   "name": "python3"
  },
  "language_info": {
   "codemirror_mode": {
    "name": "ipython",
    "version": 3
   },
   "file_extension": ".py",
   "mimetype": "text/x-python",
   "name": "python",
   "nbconvert_exporter": "python",
   "pygments_lexer": "ipython3",
   "version": "3.8.10"
  }
 },
 "nbformat": 4,
 "nbformat_minor": 4
}
