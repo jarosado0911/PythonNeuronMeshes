{
 "cells": [
  {
   "cell_type": "code",
   "execution_count": 2,
   "metadata": {},
   "outputs": [
    {
     "name": "stdout",
     "output_type": "stream",
     "text": [
      "Python version:  3.8.10 (default, Mar 13 2023, 10:26:41) \n",
      "[GCC 9.4.0]\n",
      "Version info:    sys.version_info(major=3, minor=8, micro=10, releaselevel='final', serial=0)\n"
     ]
    }
   ],
   "source": [
    "import os\n",
    "import sys\n",
    "print(\"Python version: \",sys.version)\n",
    "print(\"Version info:   \",sys.version_info)\n",
    "\n",
    "# add path to get to the modules renderneuron and parallelframe\n",
    "sys.path.insert(0,'../src/')\n",
    "import neuronswc as ns\n",
    "import neuronmeshgenerator as nmg"
   ]
  },
  {
   "cell_type": "code",
   "execution_count": 3,
   "metadata": {},
   "outputs": [
    {
     "name": "stdout",
     "output_type": "stream",
     "text": [
      "Saved to  Alob5_WT_758.CNG.mesh/Alob5_WT_758.CNGrefinement0.swc\n",
      "Saved to  Alob5_WT_758.CNG.mesh/Alob5_WT_758.CNG_1d_refinement0.ugx\n",
      "Saved to  Alob5_WT_758.CNG.mesh/Alob5_WT_758.CNG_3d_mesh_refinment0.ugx\n",
      "Saved to  Alob5_WT_758.CNG.mesh/Alob5_WT_758.CNGrefinement1.swc\n",
      "Saved to  Alob5_WT_758.CNG.mesh/Alob5_WT_758.CNG_1d_refinement1.ugx\n",
      "Saved to  Alob5_WT_758.CNG.mesh/Alob5_WT_758.CNG_3d_mesh_refinment1.ugx\n",
      "Saved to  Alob5_WT_758.CNG.mesh/Alob5_WT_758.CNGrefinement2.swc\n",
      "Saved to  Alob5_WT_758.CNG.mesh/Alob5_WT_758.CNG_1d_refinement2.ugx\n",
      "Saved to  Alob5_WT_758.CNG.mesh/Alob5_WT_758.CNG_3d_mesh_refinment2.ugx\n",
      "Saved to  Alob5_WT_758.CNG.mesh/Alob5_WT_758.CNGrefinement3.swc\n",
      "Saved to  Alob5_WT_758.CNG.mesh/Alob5_WT_758.CNG_1d_refinement3.ugx\n",
      "Saved to  Alob5_WT_758.CNG.mesh/Alob5_WT_758.CNG_3d_mesh_refinment3.ugx\n",
      "Saved to  Alob5_WT_758.CNG.mesh/Alob5_WT_758.CNGrefinement4.swc\n",
      "Saved to  Alob5_WT_758.CNG.mesh/Alob5_WT_758.CNG_1d_refinement4.ugx\n",
      "Saved to  Alob5_WT_758.CNG.mesh/Alob5_WT_758.CNG_3d_mesh_refinment4.ugx\n",
      "Saved to  Alob5_WT_758.CNG.mesh/Alob5_WT_758.CNGrefinement5.swc\n",
      "Saved to  Alob5_WT_758.CNG.mesh/Alob5_WT_758.CNG_1d_refinement5.ugx\n",
      "Saved to  Alob5_WT_758.CNG.mesh/Alob5_WT_758.CNG_3d_mesh_refinment5.ugx\n",
      "Saved to  Alob5_WT_758.CNG.mesh/Alob5_WT_758.CNGrefinement6.swc\n",
      "Saved to  Alob5_WT_758.CNG.mesh/Alob5_WT_758.CNG_1d_refinement6.ugx\n",
      "Saved to  Alob5_WT_758.CNG.mesh/Alob5_WT_758.CNG_3d_mesh_refinment6.ugx\n",
      "Saved to  Alob5_WT_758.CNG.mesh/Alob5_WT_758.CNGrefinement7.swc\n",
      "Saved to  Alob5_WT_758.CNG.mesh/Alob5_WT_758.CNG_1d_refinement7.ugx\n",
      "Saved to  Alob5_WT_758.CNG.mesh/Alob5_WT_758.CNG_3d_mesh_refinment7.ugx\n",
      "Making VRN ...\n",
      "updating: Alob5_WT_758.CNGrefinement0.swc (deflated 57%)\n",
      "updating: Alob5_WT_758.CNG_1d_refinement0.ugx (deflated 61%)\n",
      "updating: Alob5_WT_758.CNG_3d_mesh_refinment0.ugx (deflated 79%)\n",
      "updating: Alob5_WT_758.CNGrefinement1.swc (deflated 57%)\n",
      "updating: Alob5_WT_758.CNG_1d_refinement1.ugx (deflated 61%)\n",
      "updating: Alob5_WT_758.CNG_3d_mesh_refinment1.ugx (deflated 79%)\n",
      "updating: Alob5_WT_758.CNGrefinement2.swc (deflated 57%)\n",
      "updating: Alob5_WT_758.CNG_1d_refinement2.ugx (deflated 61%)\n",
      "updating: Alob5_WT_758.CNG_3d_mesh_refinment2.ugx (deflated 79%)\n",
      "updating: Alob5_WT_758.CNGrefinement3.swc (deflated 56%)\n",
      "updating: Alob5_WT_758.CNG_1d_refinement3.ugx (deflated 61%)\n",
      "updating: Alob5_WT_758.CNG_3d_mesh_refinment3.ugx (deflated 79%)\n",
      "updating: Alob5_WT_758.CNGrefinement4.swc (deflated 56%)\n",
      "updating: Alob5_WT_758.CNG_1d_refinement4.ugx (deflated 60%)\n",
      "updating: Alob5_WT_758.CNG_3d_mesh_refinment4.ugx (deflated 80%)\n",
      "updating: Alob5_WT_758.CNGrefinement5.swc (deflated 55%)\n",
      "updating: Alob5_WT_758.CNG_1d_refinement5.ugx (deflated 60%)\n",
      "updating: Alob5_WT_758.CNG_3d_mesh_refinment5.ugx (deflated 81%)\n",
      "updating: MetaInfo.json (deflated 88%)\n",
      "updating: Alob5_WT_758.CNGrefinement6.swc (deflated 56%)\n",
      "updating: Alob5_WT_758.CNG_1d_refinement6.ugx (deflated 58%)\n",
      "updating: Alob5_WT_758.CNG_3d_mesh_refinment6.ugx (deflated 82%)\n",
      "updating: Alob5_WT_758.CNGrefinement7.swc (deflated 56%)\n",
      "updating: Alob5_WT_758.CNG_1d_refinement7.ugx (deflated 59%)\n",
      "updating: Alob5_WT_758.CNG_3d_mesh_refinment7.ugx (deflated 82%)\n"
     ]
    }
   ],
   "source": [
    "neuron_filename='../cells/Alob5_WT_758.CNG.swc'\n",
    "num_ref=8\n",
    "start_dx=32.0\n",
    "n_cir_points=12\n",
    "sph_contours=10\n",
    "sph_points=16\n",
    "MESHFOLDER=nmg.make_meshes(neuron_filename,start_dx,num_ref,n_cir_points,sph_contours,sph_points)\n",
    "nmg.write_vrn(MESHFOLDER)"
   ]
  },
  {
   "cell_type": "code",
   "execution_count": null,
   "metadata": {},
   "outputs": [],
   "source": [
    "import numpy as np\n",
    "x=tuple([1,2,3])\n",
    "xx=np.array(x)"
   ]
  },
  {
   "cell_type": "code",
   "execution_count": null,
   "metadata": {},
   "outputs": [],
   "source": [
    "xx"
   ]
  },
  {
   "cell_type": "code",
   "execution_count": null,
   "metadata": {},
   "outputs": [],
   "source": [
    "(xx+xx+xx)*0.5"
   ]
  },
  {
   "cell_type": "code",
   "execution_count": null,
   "metadata": {},
   "outputs": [],
   "source": [
    "np.dot(xx,xx)"
   ]
  },
  {
   "cell_type": "code",
   "execution_count": null,
   "metadata": {},
   "outputs": [],
   "source": []
  }
 ],
 "metadata": {
  "kernelspec": {
   "display_name": "Python 3 (ipykernel)",
   "language": "python",
   "name": "python3"
  },
  "language_info": {
   "codemirror_mode": {
    "name": "ipython",
    "version": 3
   },
   "file_extension": ".py",
   "mimetype": "text/x-python",
   "name": "python",
   "nbconvert_exporter": "python",
   "pygments_lexer": "ipython3",
   "version": "3.8.10"
  }
 },
 "nbformat": 4,
 "nbformat_minor": 4
}
