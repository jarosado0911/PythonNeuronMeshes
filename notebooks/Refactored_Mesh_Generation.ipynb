{
 "cells": [
  {
   "cell_type": "markdown",
   "metadata": {},
   "source": [
    "# Refactored Mesh Generation\n",
    "- In this notebook  I will go through the process of generating meshes\n",
    "- I will show how to read in a `.swc` file \n",
    "- Perform refinements using `scipy` splines \n",
    "- Perform refinements by splitting edges only\n",
    "- Generate trunks\n",
    "- Generate Meshes\n",
    "\n",
    "In the first cell, I load the necessary modules, this include `neuronswc.py` and `neuronmeshgenerator.py` which contain the main functionality"
   ]
  },
  {
   "cell_type": "code",
   "execution_count": 1,
   "metadata": {},
   "outputs": [
    {
     "name": "stdout",
     "output_type": "stream",
     "text": [
      "Python version:  3.8.10 (default, Mar 13 2023, 10:26:41) \n",
      "[GCC 9.4.0]\n",
      "Version info:    sys.version_info(major=3, minor=8, micro=10, releaselevel='final', serial=0)\n",
      "JSON:            2.0.9\n",
      "networkx:        3.1\n",
      "scipy:           1.10.1\n"
     ]
    }
   ],
   "source": [
    "import os\n",
    "import sys\n",
    "print(\"Python version: \",sys.version)\n",
    "print(\"Version info:   \",sys.version_info)\n",
    "\n",
    "# add path to get to the modules renderneuron and parallelframe\n",
    "sys.path.insert(0,'../src/')\n",
    "import neuronswc as ns\n",
    "import neuronmeshgenerator as nmg\n",
    "import networkx as nx"
   ]
  },
  {
   "cell_type": "markdown",
   "metadata": {},
   "source": [
    "## Read in a geomtry from `.swc`\n",
    "+ In this section we will read in a geometry that was downloaded from [`NeuroMorpho.org`](https://neuromorpho.org/)\n",
    "+ The geometries are located in the `../cells/` folder"
   ]
  },
  {
   "cell_type": "code",
   "execution_count": 2,
   "metadata": {},
   "outputs": [],
   "source": [
    "neuron_filename='../cells/0-2a.CNG.swc'\n",
    "G=ns.read_1d_neuron_swc(neuron_filename)"
   ]
  },
  {
   "cell_type": "markdown",
   "metadata": {},
   "source": [
    "## Edge Split Refinement\n",
    "+ In this next cell we will do an edge splitting of the geometry and save the geometry as an `.swc` and `.ugx` formats\n",
    "+ We will also remove the soma line from the geometry\n",
    "+ We will also generate a trunk geometry where all the subsets are separated\n",
    "+ I also write the output as soma and neurite only subsets"
   ]
  },
  {
   "cell_type": "code",
   "execution_count": 7,
   "metadata": {},
   "outputs": [
    {
     "name": "stdout",
     "output_type": "stream",
     "text": [
      "Saved to  edge_split.swc\n",
      "Saved to  edge_split.ugx\n",
      "Saved to  trunks.ugx\n",
      "Saved to  soma_neurite_split.swc\n",
      "Saved to  soma_neurite_split.ugx\n",
      "Saved to  soma_neurite_split.ugx\n"
     ]
    }
   ],
   "source": [
    "# remove the soma_line\n",
    "G=ns.remove_soma_line(G)\n",
    "\n",
    "# split all  the edges\n",
    "Gsplit=ns.split_edges(G)\n",
    "\n",
    "# save to .swc and .ugx formats\n",
    "ns.save_1d_neuron_swc(Gsplit,'edge_split.swc')\n",
    "ns.write_1d_ugx(Gsplit,'edge_split.ugx')\n",
    "\n",
    "# get neuron trunks\n",
    "trunks,T=ns.get_trunks(Gsplit)\n",
    "ns.write_1d_ugx(T,'trunks.ugx')\n",
    "\n",
    "# save only as soma and neurite geometry\n",
    "ns.save_1d_neuron_swc_soma_neurite(Gsplit,'soma_neurite_split.swc')\n",
    "ns.write_1d_ugx_soma_neurite(Gsplit,'soma_neurite_split.ugx')"
   ]
  },
  {
   "cell_type": "markdown",
   "metadata": {},
   "source": [
    "## Spline Refinement\n",
    "+ I repeat the previous cell except we are using a spline refinement methodology"
   ]
  },
  {
   "cell_type": "code",
   "execution_count": 11,
   "metadata": {},
   "outputs": [
    {
     "name": "stdout",
     "output_type": "stream",
     "text": [
      "Saved to  edge_spline.swc\n",
      "Saved to  edge_spline.ugx\n",
      "Saved to  trunks_spline.ugx\n",
      "Saved to  soma_neurite_spline.swc\n",
      "Saved to  soma_neurite_spline.ugx\n",
      "Saved to  soma_neurite_spline.ugx\n"
     ]
    }
   ],
   "source": [
    "# Spline Refine\n",
    "dx=0.25 # specify a delta x\n",
    "Gspline=ns.spline_neuron(G,dx)\n",
    "\n",
    "# save to .swc and .ugx formats\n",
    "ns.save_1d_neuron_swc(Gspline,'edge_spline.swc')\n",
    "ns.write_1d_ugx(Gspline,'edge_spline.ugx')\n",
    "\n",
    "# get neuron trunks\n",
    "trunks,T=ns.get_trunks(Gspline)\n",
    "ns.write_1d_ugx(T,'trunks_spline.ugx')\n",
    "\n",
    "# save only as soma and neurite geometry\n",
    "ns.save_1d_neuron_swc_soma_neurite(Gspline,'soma_neurite_spline.swc')\n",
    "ns.write_1d_ugx_soma_neurite(Gspline,'soma_neurite_spline.ugx')"
   ]
  },
  {
   "cell_type": "markdown",
   "metadata": {},
   "source": [
    "## Generate a Mesh\n",
    "In this cell we will take our refinements and make surface meshes. I will use the `T`, `Gsplit`, and `Gspline` geometry we generated"
   ]
  },
  {
   "cell_type": "code",
   "execution_count": 16,
   "metadata": {},
   "outputs": [
    {
     "name": "stdout",
     "output_type": "stream",
     "text": [
      "Saved to  mesh_spline.ugx\n",
      "Saved to  mesh_split.ugx\n",
      "Saved to  mesh_trunks_spline.ugx\n"
     ]
    }
   ],
   "source": [
    "n_spcontours=10\n",
    "n_spcircle_points=16\n",
    "n_circle_points=12\n",
    "nmg.write_mesh_with_soma_sphere_ugx(Gspline,n_circle_points,n_spcontours,n_spcircle_points,'mesh_spline.ugx')\n",
    "nmg.write_mesh_with_soma_sphere_ugx(Gsplit,n_circle_points,n_spcontours,n_spcircle_points,'mesh_split.ugx')\n",
    "nmg.write_mesh_with_soma_sphere_ugx(T,n_circle_points,n_spcontours,n_spcircle_points,'mesh_trunks_spline.ugx')"
   ]
  },
  {
   "cell_type": "markdown",
   "metadata": {},
   "source": [
    "## Generate Sequence of Meshes and `.vrn`\n",
    "In this cell we will use a function that I made which will generate a sequence of meshes and `.zip` into a VRN file type for use in the NeuroVisor project."
   ]
  },
  {
   "cell_type": "code",
   "execution_count": 17,
   "metadata": {},
   "outputs": [
    {
     "name": "stdout",
     "output_type": "stream",
     "text": [
      "Saved to  0-2a.CNG.mesh/0-2a.CNGrefinement0.swc\n",
      "Saved to  0-2a.CNG.mesh/0-2a.CNG_1d_refinement0.ugx\n",
      "Saved to  0-2a.CNG.mesh/0-2a.CNG_3d_mesh_refinment0.ugx\n",
      "Saved to  0-2a.CNG.mesh/0-2a.CNGrefinement1.swc\n",
      "Saved to  0-2a.CNG.mesh/0-2a.CNG_1d_refinement1.ugx\n",
      "Saved to  0-2a.CNG.mesh/0-2a.CNG_3d_mesh_refinment1.ugx\n",
      "Saved to  0-2a.CNG.mesh/0-2a.CNGrefinement2.swc\n",
      "Saved to  0-2a.CNG.mesh/0-2a.CNG_1d_refinement2.ugx\n",
      "Saved to  0-2a.CNG.mesh/0-2a.CNG_3d_mesh_refinment2.ugx\n",
      "Saved to  0-2a.CNG.mesh/0-2a.CNGrefinement3.swc\n",
      "Saved to  0-2a.CNG.mesh/0-2a.CNG_1d_refinement3.ugx\n",
      "Saved to  0-2a.CNG.mesh/0-2a.CNG_3d_mesh_refinment3.ugx\n",
      "Saved to  0-2a.CNG.mesh/0-2a.CNGrefinement4.swc\n",
      "Saved to  0-2a.CNG.mesh/0-2a.CNG_1d_refinement4.ugx\n",
      "Saved to  0-2a.CNG.mesh/0-2a.CNG_3d_mesh_refinment4.ugx\n",
      "Saved to  0-2a.CNG.mesh/0-2a.CNGrefinement5.swc\n",
      "Saved to  0-2a.CNG.mesh/0-2a.CNG_1d_refinement5.ugx\n",
      "Saved to  0-2a.CNG.mesh/0-2a.CNG_3d_mesh_refinment5.ugx\n",
      "Saved to  0-2a.CNG.mesh/0-2a.CNGrefinement6.swc\n",
      "Saved to  0-2a.CNG.mesh/0-2a.CNG_1d_refinement6.ugx\n",
      "Saved to  0-2a.CNG.mesh/0-2a.CNG_3d_mesh_refinment6.ugx\n",
      "Saved to  0-2a.CNG.mesh/0-2a.CNGrefinement7.swc\n",
      "Saved to  0-2a.CNG.mesh/0-2a.CNG_1d_refinement7.ugx\n",
      "Saved to  0-2a.CNG.mesh/0-2a.CNG_3d_mesh_refinment7.ugx\n",
      "Saved to  0-2a.CNG.mesh/0-2a.CNGrefinement8.swc\n",
      "Saved to  0-2a.CNG.mesh/0-2a.CNG_1d_refinement8.ugx\n",
      "Saved to  0-2a.CNG.mesh/0-2a.CNG_3d_mesh_refinment8.ugx\n",
      "Saved to  0-2a.CNG.mesh/0-2a.CNGrefinement9.swc\n",
      "Saved to  0-2a.CNG.mesh/0-2a.CNG_1d_refinement9.ugx\n",
      "Saved to  0-2a.CNG.mesh/0-2a.CNG_3d_mesh_refinment9.ugx\n",
      "Making VRN ...\n",
      "updating: 0-2a.CNG_1d_refinement0.ugx (deflated 53%)\n",
      "updating: 0-2a.CNG_3d_mesh_refinment0.ugx (deflated 78%)\n",
      "updating: 0-2a.CNG_1d_refinement1.ugx (deflated 53%)\n",
      "updating: 0-2a.CNG_3d_mesh_refinment1.ugx (deflated 78%)\n",
      "updating: 0-2a.CNG_1d_refinement2.ugx (deflated 53%)\n",
      "updating: 0-2a.CNG_3d_mesh_refinment2.ugx (deflated 78%)\n",
      "updating: 0-2a.CNG_1d_refinement3.ugx (deflated 55%)\n",
      "updating: 0-2a.CNG_3d_mesh_refinment3.ugx (deflated 77%)\n",
      "updating: 0-2a.CNG_1d_refinement4.ugx (deflated 56%)\n",
      "updating: 0-2a.CNG_3d_mesh_refinment4.ugx (deflated 76%)\n",
      "updating: 0-2a.CNG_1d_refinement5.ugx (deflated 57%)\n",
      "updating: 0-2a.CNG_3d_mesh_refinment5.ugx (deflated 77%)\n",
      "updating: 0-2a.CNG_1d_refinement6.ugx (deflated 59%)\n",
      "updating: 0-2a.CNG_3d_mesh_refinment6.ugx (deflated 77%)\n",
      "updating: 0-2a.CNG_1d_refinement7.ugx (deflated 60%)\n",
      "updating: 0-2a.CNG_3d_mesh_refinment7.ugx (deflated 77%)\n",
      "updating: 0-2a.CNG_1d_refinement8.ugx (deflated 61%)\n",
      "updating: 0-2a.CNG_3d_mesh_refinment8.ugx (deflated 78%)\n",
      "updating: 0-2a.CNG_1d_refinement9.ugx (deflated 60%)\n",
      "updating: 0-2a.CNG_3d_mesh_refinment9.ugx (deflated 78%)\n",
      "updating: MetaInfo.json (deflated 89%)\n"
     ]
    }
   ],
   "source": [
    "neuron_filename='../cells/0-2a.CNG.swc'\n",
    "num_ref=10\n",
    "start_dx=128.0\n",
    "n_cir_points=12\n",
    "sph_contours=32\n",
    "sph_points=32\n",
    "MESHFOLDER=nmg.make_meshes(neuron_filename,start_dx,num_ref,n_cir_points,sph_contours,sph_points)\n",
    "nmg.write_vrn(MESHFOLDER)"
   ]
  },
  {
   "cell_type": "code",
   "execution_count": null,
   "metadata": {},
   "outputs": [],
   "source": []
  },
  {
   "cell_type": "code",
   "execution_count": null,
   "metadata": {},
   "outputs": [],
   "source": []
  }
 ],
 "metadata": {
  "kernelspec": {
   "display_name": "Python 3 (ipykernel)",
   "language": "python",
   "name": "python3"
  },
  "language_info": {
   "codemirror_mode": {
    "name": "ipython",
    "version": 3
   },
   "file_extension": ".py",
   "mimetype": "text/x-python",
   "name": "python",
   "nbconvert_exporter": "python",
   "pygments_lexer": "ipython3",
   "version": "3.8.10"
  }
 },
 "nbformat": 4,
 "nbformat_minor": 4
}
