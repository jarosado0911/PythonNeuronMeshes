{
 "cells": [
  {
   "cell_type": "code",
   "execution_count": 2,
   "metadata": {},
   "outputs": [
    {
     "name": "stdout",
     "output_type": "stream",
     "text": [
      "Python version:  3.8.10 (default, Mar 13 2023, 10:26:41) \n",
      "[GCC 9.4.0]\n",
      "Version info:    sys.version_info(major=3, minor=8, micro=10, releaselevel='final', serial=0)\n"
     ]
    }
   ],
   "source": [
    "import os\n",
    "import sys\n",
    "print(\"Python version: \",sys.version)\n",
    "print(\"Version info:   \",sys.version_info)\n",
    "\n",
    "# add path to get to the modules renderneuron and parallelframe\n",
    "sys.path.insert(0,'../src/')\n",
    "import neuronswc as ns\n",
    "import neuronmeshgenerator as nmg\n",
    "import networkx as nx"
   ]
  },
  {
   "cell_type": "code",
   "execution_count": 11,
   "metadata": {},
   "outputs": [
    {
     "name": "stdout",
     "output_type": "stream",
     "text": [
      "folder not found\n",
      "Saved to  09-06-01-4neurogliaform.CNG.mesh/09-06-01-4neurogliaform.CNGrefinement0.swc\n",
      "Saved to  09-06-01-4neurogliaform.CNG.mesh/09-06-01-4neurogliaform.CNG_1d_refinement0.ugx\n",
      "Saved to  09-06-01-4neurogliaform.CNG.mesh/09-06-01-4neurogliaform.CNG_3d_mesh_refinment0.ugx\n",
      "Saved to  09-06-01-4neurogliaform.CNG.mesh/09-06-01-4neurogliaform.CNGrefinement1.swc\n",
      "Saved to  09-06-01-4neurogliaform.CNG.mesh/09-06-01-4neurogliaform.CNG_1d_refinement1.ugx\n",
      "Saved to  09-06-01-4neurogliaform.CNG.mesh/09-06-01-4neurogliaform.CNG_3d_mesh_refinment1.ugx\n",
      "Saved to  09-06-01-4neurogliaform.CNG.mesh/09-06-01-4neurogliaform.CNGrefinement2.swc\n",
      "Saved to  09-06-01-4neurogliaform.CNG.mesh/09-06-01-4neurogliaform.CNG_1d_refinement2.ugx\n",
      "Saved to  09-06-01-4neurogliaform.CNG.mesh/09-06-01-4neurogliaform.CNG_3d_mesh_refinment2.ugx\n",
      "Saved to  09-06-01-4neurogliaform.CNG.mesh/09-06-01-4neurogliaform.CNGrefinement3.swc\n",
      "Saved to  09-06-01-4neurogliaform.CNG.mesh/09-06-01-4neurogliaform.CNG_1d_refinement3.ugx\n",
      "Saved to  09-06-01-4neurogliaform.CNG.mesh/09-06-01-4neurogliaform.CNG_3d_mesh_refinment3.ugx\n",
      "Saved to  09-06-01-4neurogliaform.CNG.mesh/09-06-01-4neurogliaform.CNGrefinement4.swc\n",
      "Saved to  09-06-01-4neurogliaform.CNG.mesh/09-06-01-4neurogliaform.CNG_1d_refinement4.ugx\n",
      "Saved to  09-06-01-4neurogliaform.CNG.mesh/09-06-01-4neurogliaform.CNG_3d_mesh_refinment4.ugx\n",
      "Saved to  09-06-01-4neurogliaform.CNG.mesh/09-06-01-4neurogliaform.CNGrefinement5.swc\n",
      "Saved to  09-06-01-4neurogliaform.CNG.mesh/09-06-01-4neurogliaform.CNG_1d_refinement5.ugx\n",
      "Saved to  09-06-01-4neurogliaform.CNG.mesh/09-06-01-4neurogliaform.CNG_3d_mesh_refinment5.ugx\n",
      "Saved to  09-06-01-4neurogliaform.CNG.mesh/09-06-01-4neurogliaform.CNGrefinement6.swc\n",
      "Saved to  09-06-01-4neurogliaform.CNG.mesh/09-06-01-4neurogliaform.CNG_1d_refinement6.ugx\n",
      "Saved to  09-06-01-4neurogliaform.CNG.mesh/09-06-01-4neurogliaform.CNG_3d_mesh_refinment6.ugx\n",
      "Saved to  09-06-01-4neurogliaform.CNG.mesh/09-06-01-4neurogliaform.CNGrefinement7.swc\n",
      "Saved to  09-06-01-4neurogliaform.CNG.mesh/09-06-01-4neurogliaform.CNG_1d_refinement7.ugx\n",
      "Saved to  09-06-01-4neurogliaform.CNG.mesh/09-06-01-4neurogliaform.CNG_3d_mesh_refinment7.ugx\n",
      "Saved to  09-06-01-4neurogliaform.CNG.mesh/09-06-01-4neurogliaform.CNGrefinement8.swc\n",
      "Saved to  09-06-01-4neurogliaform.CNG.mesh/09-06-01-4neurogliaform.CNG_1d_refinement8.ugx\n",
      "Saved to  09-06-01-4neurogliaform.CNG.mesh/09-06-01-4neurogliaform.CNG_3d_mesh_refinment8.ugx\n",
      "Saved to  09-06-01-4neurogliaform.CNG.mesh/09-06-01-4neurogliaform.CNGrefinement9.swc\n",
      "Saved to  09-06-01-4neurogliaform.CNG.mesh/09-06-01-4neurogliaform.CNG_1d_refinement9.ugx\n",
      "Saved to  09-06-01-4neurogliaform.CNG.mesh/09-06-01-4neurogliaform.CNG_3d_mesh_refinment9.ugx\n",
      "Making VRN ...\n",
      "  adding: 09-06-01-4neurogliaform.CNG_1d_refinement0.ugx (deflated 61%)\n",
      "  adding: 09-06-01-4neurogliaform.CNG_3d_mesh_refinment0.ugx (deflated 77%)\n",
      "  adding: 09-06-01-4neurogliaform.CNG_1d_refinement1.ugx (deflated 61%)\n",
      "  adding: 09-06-01-4neurogliaform.CNG_3d_mesh_refinment1.ugx (deflated 77%)\n",
      "  adding: 09-06-01-4neurogliaform.CNG_1d_refinement2.ugx (deflated 61%)\n",
      "  adding: 09-06-01-4neurogliaform.CNG_3d_mesh_refinment2.ugx (deflated 77%)\n",
      "  adding: 09-06-01-4neurogliaform.CNG_1d_refinement3.ugx (deflated 60%)\n",
      "  adding: 09-06-01-4neurogliaform.CNG_3d_mesh_refinment3.ugx (deflated 77%)\n",
      "  adding: 09-06-01-4neurogliaform.CNG_1d_refinement4.ugx (deflated 61%)\n",
      "  adding: 09-06-01-4neurogliaform.CNG_3d_mesh_refinment4.ugx (deflated 78%)\n",
      "  adding: 09-06-01-4neurogliaform.CNG_1d_refinement5.ugx (deflated 59%)\n",
      "  adding: 09-06-01-4neurogliaform.CNG_3d_mesh_refinment5.ugx (deflated 78%)\n",
      "  adding: 09-06-01-4neurogliaform.CNG_1d_refinement6.ugx (deflated 60%)\n",
      "  adding: 09-06-01-4neurogliaform.CNG_3d_mesh_refinment6.ugx (deflated 79%)\n",
      "  adding: 09-06-01-4neurogliaform.CNG_1d_refinement7.ugx (deflated 61%)\n",
      "  adding: 09-06-01-4neurogliaform.CNG_3d_mesh_refinment7.ugx (deflated 79%)\n",
      "  adding: 09-06-01-4neurogliaform.CNG_1d_refinement8.ugx (deflated 62%)\n",
      "  adding: 09-06-01-4neurogliaform.CNG_3d_mesh_refinment8.ugx (deflated 80%)\n",
      "  adding: 09-06-01-4neurogliaform.CNG_1d_refinement9.ugx (deflated 63%)\n",
      "  adding: 09-06-01-4neurogliaform.CNG_3d_mesh_refinment9.ugx (deflated 80%)\n",
      "  adding: MetaInfo.json (deflated 90%)\n"
     ]
    }
   ],
   "source": [
    "neuron_filename='../cells/09-06-01-4neurogliaform.CNG.swc'\n",
    "num_ref=10\n",
    "start_dx=128.0\n",
    "n_cir_points=12\n",
    "sph_contours=32\n",
    "sph_points=32\n",
    "MESHFOLDER=nmg.make_meshes(neuron_filename,start_dx,num_ref,n_cir_points,sph_contours,sph_points)\n",
    "nmg.write_vrn(MESHFOLDER)"
   ]
  },
  {
   "cell_type": "code",
   "execution_count": null,
   "metadata": {},
   "outputs": [],
   "source": [
    "neuron_filename='../cells/228-21MG.CNG.swc'\n",
    "G=ns.read_1d_neuron_swc(neuron_filename)\n",
    "G=ns.remove_soma_line(G)\n",
    "G1=ns.spline_neuron(G,1.0)\n",
    "\n",
    "ns.write_1d_ugx(G1,'G1_oldlabel.ugx')\n",
    "old_labels=list(set(G1.nodes()))\n",
    "new_labels=list(nx.dfs_preorder_nodes(G1,source=1))\n",
    "\n",
    "mapping=dict(zip(old_labels,new_labels))\n",
    "G1=nx.relabel_nodes(G1,mapping)\n",
    "ns.write_1d_ugx(G1,'G1_newlabel.ugx')\n",
    "trunks,T=ns.get_trunks(G1)\n",
    "ns.write_1d_ugx(T,'test_trunks.ugx')\n",
    "ns.write_1d_ugx_soma_neurite(T,'soma_neurite.ugx')\n",
    "nmg.write_mesh_with_soma_sphere_ugx(T,12,16,16,'trunks_mesh.ugx')"
   ]
  }
 ],
 "metadata": {
  "kernelspec": {
   "display_name": "Python 3 (ipykernel)",
   "language": "python",
   "name": "python3"
  },
  "language_info": {
   "codemirror_mode": {
    "name": "ipython",
    "version": 3
   },
   "file_extension": ".py",
   "mimetype": "text/x-python",
   "name": "python",
   "nbconvert_exporter": "python",
   "pygments_lexer": "ipython3",
   "version": "3.8.10"
  }
 },
 "nbformat": 4,
 "nbformat_minor": 4
}
