{
 "cells": [
  {
   "cell_type": "code",
   "execution_count": 1,
   "metadata": {},
   "outputs": [
    {
     "name": "stdout",
     "output_type": "stream",
     "text": [
      "Python version:  3.8.10 (default, Mar 13 2023, 10:26:41) \n",
      "[GCC 9.4.0]\n",
      "Version info:    sys.version_info(major=3, minor=8, micro=10, releaselevel='final', serial=0)\n",
      "JSON:            2.0.9\n",
      "networkx:        3.1\n",
      "scipy:           1.10.1\n"
     ]
    }
   ],
   "source": [
    "import os\n",
    "import sys\n",
    "print(\"Python version: \",sys.version)\n",
    "print(\"Version info:   \",sys.version_info)\n",
    "\n",
    "# add path to get to the modules renderneuron and parallelframe\n",
    "sys.path.insert(0,'../src/')\n",
    "import neuronswc as ns\n",
    "import neuronmeshgenerator as nmg"
   ]
  },
  {
   "cell_type": "code",
   "execution_count": 8,
   "metadata": {},
   "outputs": [
    {
     "name": "stdout",
     "output_type": "stream",
     "text": [
      "Saved to  H17-03-002-11-06-04_604147043_m.CNG.mesh/H17-03-002-11-06-04_604147043_m.CNGrefinement0.swc\n",
      "Saved to  H17-03-002-11-06-04_604147043_m.CNG.mesh/H17-03-002-11-06-04_604147043_m.CNG_1d_refinement0.ugx\n",
      "Saved to  H17-03-002-11-06-04_604147043_m.CNG.mesh/H17-03-002-11-06-04_604147043_m.CNG_3d_mesh_refinment0.ugx\n",
      "Saved to  H17-03-002-11-06-04_604147043_m.CNG.mesh/H17-03-002-11-06-04_604147043_m.CNGrefinement1.swc\n",
      "Saved to  H17-03-002-11-06-04_604147043_m.CNG.mesh/H17-03-002-11-06-04_604147043_m.CNG_1d_refinement1.ugx\n",
      "Saved to  H17-03-002-11-06-04_604147043_m.CNG.mesh/H17-03-002-11-06-04_604147043_m.CNG_3d_mesh_refinment1.ugx\n",
      "Saved to  H17-03-002-11-06-04_604147043_m.CNG.mesh/H17-03-002-11-06-04_604147043_m.CNGrefinement2.swc\n",
      "Saved to  H17-03-002-11-06-04_604147043_m.CNG.mesh/H17-03-002-11-06-04_604147043_m.CNG_1d_refinement2.ugx\n",
      "Saved to  H17-03-002-11-06-04_604147043_m.CNG.mesh/H17-03-002-11-06-04_604147043_m.CNG_3d_mesh_refinment2.ugx\n",
      "Saved to  H17-03-002-11-06-04_604147043_m.CNG.mesh/H17-03-002-11-06-04_604147043_m.CNGrefinement3.swc\n",
      "Saved to  H17-03-002-11-06-04_604147043_m.CNG.mesh/H17-03-002-11-06-04_604147043_m.CNG_1d_refinement3.ugx\n",
      "Saved to  H17-03-002-11-06-04_604147043_m.CNG.mesh/H17-03-002-11-06-04_604147043_m.CNG_3d_mesh_refinment3.ugx\n",
      "Saved to  H17-03-002-11-06-04_604147043_m.CNG.mesh/H17-03-002-11-06-04_604147043_m.CNGrefinement4.swc\n",
      "Saved to  H17-03-002-11-06-04_604147043_m.CNG.mesh/H17-03-002-11-06-04_604147043_m.CNG_1d_refinement4.ugx\n",
      "Saved to  H17-03-002-11-06-04_604147043_m.CNG.mesh/H17-03-002-11-06-04_604147043_m.CNG_3d_mesh_refinment4.ugx\n",
      "Saved to  H17-03-002-11-06-04_604147043_m.CNG.mesh/H17-03-002-11-06-04_604147043_m.CNGrefinement5.swc\n",
      "Saved to  H17-03-002-11-06-04_604147043_m.CNG.mesh/H17-03-002-11-06-04_604147043_m.CNG_1d_refinement5.ugx\n",
      "Saved to  H17-03-002-11-06-04_604147043_m.CNG.mesh/H17-03-002-11-06-04_604147043_m.CNG_3d_mesh_refinment5.ugx\n",
      "Making VRN ...\n",
      "updating: H17-03-002-11-06-04_604147043_m.CNGrefinement0.swc (deflated 52%)\n",
      "updating: H17-03-002-11-06-04_604147043_m.CNG_1d_refinement0.ugx (deflated 56%)\n",
      "updating: H17-03-002-11-06-04_604147043_m.CNG_3d_mesh_refinment0.ugx (deflated 81%)\n",
      "updating: H17-03-002-11-06-04_604147043_m.CNGrefinement1.swc (deflated 52%)\n",
      "updating: H17-03-002-11-06-04_604147043_m.CNG_1d_refinement1.ugx (deflated 56%)\n",
      "updating: H17-03-002-11-06-04_604147043_m.CNG_3d_mesh_refinment1.ugx (deflated 83%)\n",
      "updating: MetaInfo.json (deflated 86%)\n",
      "  adding: H17-03-002-11-06-04_604147043_m.CNGrefinement2.swc (deflated 52%)\n",
      "  adding: H17-03-002-11-06-04_604147043_m.CNG_1d_refinement2.ugx (deflated 57%)\n",
      "  adding: H17-03-002-11-06-04_604147043_m.CNG_3d_mesh_refinment2.ugx (deflated 84%)\n",
      "  adding: H17-03-002-11-06-04_604147043_m.CNGrefinement3.swc (deflated 53%)\n",
      "  adding: H17-03-002-11-06-04_604147043_m.CNG_1d_refinement3.ugx (deflated 58%)\n",
      "  adding: H17-03-002-11-06-04_604147043_m.CNG_3d_mesh_refinment3.ugx (deflated 84%)\n",
      "  adding: H17-03-002-11-06-04_604147043_m.CNGrefinement4.swc (deflated 54%)\n",
      "  adding: H17-03-002-11-06-04_604147043_m.CNG_1d_refinement4.ugx (deflated 56%)\n",
      "  adding: H17-03-002-11-06-04_604147043_m.CNG_3d_mesh_refinment4.ugx (deflated 85%)\n",
      "  adding: H17-03-002-11-06-04_604147043_m.CNGrefinement5.swc (deflated 54%)\n",
      "  adding: H17-03-002-11-06-04_604147043_m.CNG_1d_refinement5.ugx (deflated 57%)\n",
      "  adding: H17-03-002-11-06-04_604147043_m.CNG_3d_mesh_refinment5.ugx (deflated 85%)\n"
     ]
    }
   ],
   "source": [
    "neuron_filename='../cells/H17-03-002-11-06-04_604147043_m.CNG.swc'\n",
    "num_ref=6\n",
    "start_dx=32.0\n",
    "n_cir_points=18\n",
    "sph_contours=18\n",
    "sph_points=18\n",
    "MESHFOLDER=nmg.make_meshes(neuron_filename,start_dx,num_ref,n_cir_points,sph_contours,sph_points)\n",
    "nmg.write_vrn(MESHFOLDER)"
   ]
  },
  {
   "cell_type": "code",
   "execution_count": null,
   "metadata": {},
   "outputs": [],
   "source": []
  },
  {
   "cell_type": "code",
   "execution_count": null,
   "metadata": {},
   "outputs": [],
   "source": []
  }
 ],
 "metadata": {
  "kernelspec": {
   "display_name": "Python 3 (ipykernel)",
   "language": "python",
   "name": "python3"
  },
  "language_info": {
   "codemirror_mode": {
    "name": "ipython",
    "version": 3
   },
   "file_extension": ".py",
   "mimetype": "text/x-python",
   "name": "python",
   "nbconvert_exporter": "python",
   "pygments_lexer": "ipython3",
   "version": "3.8.10"
  }
 },
 "nbformat": 4,
 "nbformat_minor": 4
}
